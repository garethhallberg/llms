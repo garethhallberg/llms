{
 "cells": [
  {
   "cell_type": "code",
   "execution_count": null,
   "id": "6f025e1c",
   "metadata": {},
   "outputs": [],
   "source": [
    "import os\n",
    "from datetime import datetime\n",
    "from openai import OpenAI\n",
    "from dotenv import load_dotenv\n",
    "from fpdf import FPDF\n",
    "\n",
    "import smtplib\n",
    "from email.mime.text import MIMEText\n",
    "from email.mime.multipart import MIMEMultipart\n",
    "from email.mime.base import MIMEBase\n",
    "from email import encoders"
   ]
  },
  {
   "cell_type": "code",
   "execution_count": null,
   "id": "00b65861",
   "metadata": {},
   "outputs": [],
   "source": [
    "# Load environment variables in a file called .env\n",
    "# Print the key prefixes to help with any debugging\n",
    "load_dotenv()\n",
    "openai_api_key = os.getenv('OPENAI_API_KEY')\n",
    "\n",
    "if openai_api_key:\n",
    "    print(f\"OpenAI API Key exists and begins {openai_api_key[:8]}\")\n",
    "else:\n",
    "    print(\"OpenAI API Key not set\")\n"
   ]
  },
  {
   "cell_type": "code",
   "execution_count": null,
   "id": "79b1a708",
   "metadata": {},
   "outputs": [],
   "source": [
    "def write_file(content):\n",
    "    # Create the weekly_menu folder if it doesn't exist\n",
    "    os.makedirs(\"weekly_menu\", exist_ok=True)\n",
    "\n",
    "    # Generate a timestamped filename\n",
    "    timestamp = datetime.now().strftime(\"%Y%m%d_%H%M%S\")\n",
    "    filename = f\"weekly_menu/menu_{timestamp}.md\"\n",
    "\n",
    "    # Save the menu to the file\n",
    "    with open(filename, \"w\") as file:\n",
    "        file.write(content)\n",
    "\n",
    "        # Save the menu as a PDF\n",
    "\n",
    "        pdf = FPDF()\n",
    "        pdf.set_auto_page_break(auto=True, margin=15)\n",
    "        pdf.add_page()\n",
    "        pdf.set_font(\"Arial\", size=12)\n",
    "\n",
    "        for line in content.splitlines():\n",
    "            pdf.multi_cell(0, 10, line)\n",
    "\n",
    "        pdf_filename = filename.replace(\".md\", \".pdf\")\n",
    "        pdf.output(pdf_filename)\n",
    "\n",
    "        print(f\"Weekly vegetarian menu also saved to {pdf_filename}\")\n",
    "       \n",
    "\n",
    "def generate_menu():\n",
    "    # Prompt for generating a vegetarian weekly menu\n",
    "    prompt = \"\"\"\n",
    "    Generate a weekly vegetarian menu with breakfast, lunch, and dinner for each day. \n",
    "    Ensure the meals are balanced and include a variety of ingredients. \n",
    "    Use seasonal vegetables and grains. It is currently Spring and user is in the UK.\n",
    "    Include recipes for each meal, including cooking times and serving sizes.\n",
    "    The menu should be suitable for two people.\n",
    "    Output as markdown would be good\n",
    "    \"\"\"\n",
    "    \n",
    "\n",
    "    response = openai.chat.completions.create(\n",
    "        model='gpt-4o-mini',\n",
    "        messages=[{\"role\": \"user\", \"content\": prompt}],\n",
    "    )\n",
    "    return response.choices[0].message.content\n",
    "\n",
    "\n",
    "# Get the generated menu\n",
    "menu = generate_menu()\n",
    "\n",
    "filename = write_file(menu)"
   ]
  }
 ],
 "metadata": {
  "language_info": {
   "name": "python"
  }
 },
 "nbformat": 4,
 "nbformat_minor": 5
}
