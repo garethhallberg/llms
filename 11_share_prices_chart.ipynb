{
 "cells": [
  {
   "cell_type": "code",
   "execution_count": 1,
   "id": "9412ca69",
   "metadata": {},
   "outputs": [],
   "source": [
    "import yfinance as yf\n",
    "import gradio as gr\n",
    "import matplotlib.pyplot as plt"
   ]
  },
  {
   "cell_type": "code",
   "execution_count": null,
   "id": "256b0888",
   "metadata": {},
   "outputs": [
    {
     "name": "stdout",
     "output_type": "stream",
     "text": [
      "* Running on local URL:  http://127.0.0.1:7881\n",
      "\n",
      "To create a public link, set `share=True` in `launch()`.\n"
     ]
    },
    {
     "data": {
      "text/html": [
       "<div><iframe src=\"http://127.0.0.1:7881/\" width=\"100%\" height=\"500\" allow=\"autoplay; camera; microphone; clipboard-read; clipboard-write;\" frameborder=\"0\" allowfullscreen></iframe></div>"
      ],
      "text/plain": [
       "<IPython.core.display.HTML object>"
      ]
     },
     "metadata": {},
     "output_type": "display_data"
    },
    {
     "data": {
      "text/plain": []
     },
     "execution_count": 2,
     "metadata": {},
     "output_type": "execute_result"
    },
    {
     "name": "stderr",
     "output_type": "stream",
     "text": [
      "NVDA: Period '6m' is invalid, must be of the format 1d, 5d, 1mo, 3mo, 6mo, 1y, 2y, 5y, 10y, ytd, max, etc.\n",
      "Traceback (most recent call last):\n",
      "  File \"/opt/anaconda3/envs/llms/lib/python3.11/site-packages/gradio/queueing.py\", line 625, in process_events\n",
      "    response = await route_utils.call_process_api(\n",
      "               ^^^^^^^^^^^^^^^^^^^^^^^^^^^^^^^^^^^\n",
      "  File \"/opt/anaconda3/envs/llms/lib/python3.11/site-packages/gradio/route_utils.py\", line 322, in call_process_api\n",
      "    output = await app.get_blocks().process_api(\n",
      "             ^^^^^^^^^^^^^^^^^^^^^^^^^^^^^^^^^^^\n",
      "  File \"/opt/anaconda3/envs/llms/lib/python3.11/site-packages/gradio/blocks.py\", line 2147, in process_api\n",
      "    data = await self.postprocess_data(block_fn, result[\"prediction\"], state)\n",
      "           ^^^^^^^^^^^^^^^^^^^^^^^^^^^^^^^^^^^^^^^^^^^^^^^^^^^^^^^^^^^^^^^^^^\n",
      "  File \"/opt/anaconda3/envs/llms/lib/python3.11/site-packages/gradio/blocks.py\", line 1939, in postprocess_data\n",
      "    prediction_value = block.postprocess(prediction_value)\n",
      "                       ^^^^^^^^^^^^^^^^^^^^^^^^^^^^^^^^^^^\n",
      "  File \"/opt/anaconda3/envs/llms/lib/python3.11/site-packages/gradio/components/plot.py\", line 136, in postprocess\n",
      "    if isinstance(value, ModuleType) or \"matplotlib\" in value.__module__:\n",
      "                                                        ^^^^^^^^^^^^^^^^\n",
      "AttributeError: 'str' object has no attribute '__module__'\n"
     ]
    }
   ],
   "source": [
    "\n",
    "\n",
    "def get_share_prices(company_name, period):\n",
    "    try:\n",
    "        # Use yfinance to search for the company ticker\n",
    "        ticker = yf.Ticker(company_name)\n",
    "        # Fetch historical data for the specified period\n",
    "        historical_data = ticker.history(period=period)\n",
    "        # Check if data is available\n",
    "        if not historical_data.empty:\n",
    "            # Create a Matplotlib figure\n",
    "            plt.figure(figsize=(10, 5))\n",
    "            plt.plot(historical_data.index, historical_data['Close'], label='Closing Price', color='blue')\n",
    "            plt.title(f\"Closing Prices for {company_name}\")\n",
    "            plt.xlabel(\"Date\")\n",
    "            plt.ylabel(\"Price\")\n",
    "            plt.legend()\n",
    "            plt.grid()\n",
    "            # Save the plot to return\n",
    "            return plt\n",
    "        else:\n",
    "            return \"No data found for the given company name.\"\n",
    "    except Exception as e:\n",
    "        return f\"An error occurred: {str(e)}\"\n",
    "\n",
    "# Create a Gradio interface with a chart output\n",
    "interface = gr.Interface(\n",
    "    fn=get_share_prices,\n",
    "    inputs=[\n",
    "        gr.Textbox(label=\"Company Ticker Symbol\"),\n",
    "        gr.Textbox(label=\"Period (e.g., 5d, 30d, 1y)\")\n",
    "    ],\n",
    "    outputs=[\n",
    "        gr.Plot(label=\"Closing Prices Chart\")\n",
    "    ],\n",
    "    title=\"Company Share Price Viewer\",\n",
    "    description=\"Enter the company's ticker symbol and the period to get the share prices and view a chart.\"\n",
    ")\n",
    "\n",
    "# Launch the Gradio app\n",
    "interface.launch()"
   ]
  },
  {
   "cell_type": "code",
   "execution_count": null,
   "id": "eb5f062f",
   "metadata": {},
   "outputs": [],
   "source": []
  }
 ],
 "metadata": {
  "kernelspec": {
   "display_name": "llms",
   "language": "python",
   "name": "python3"
  },
  "language_info": {
   "codemirror_mode": {
    "name": "ipython",
    "version": 3
   },
   "file_extension": ".py",
   "mimetype": "text/x-python",
   "name": "python",
   "nbconvert_exporter": "python",
   "pygments_lexer": "ipython3",
   "version": "3.11.11"
  }
 },
 "nbformat": 4,
 "nbformat_minor": 5
}
