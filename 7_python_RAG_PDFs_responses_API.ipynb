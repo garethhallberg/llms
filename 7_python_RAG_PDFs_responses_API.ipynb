{
 "cells": [
  {
   "cell_type": "code",
   "execution_count": 1,
   "metadata": {},
   "outputs": [
    {
     "name": "stdout",
     "output_type": "stream",
     "text": [
      "Note: you may need to restart the kernel to use updated packages.\n"
     ]
    }
   ],
   "source": [
    "%pip install PyPDF2 pandas tqdm openai -q"
   ]
  },
  {
   "cell_type": "code",
   "execution_count": 20,
   "metadata": {},
   "outputs": [
    {
     "name": "stdout",
     "output_type": "stream",
     "text": [
      "Requirement already satisfied: openai in /opt/anaconda3/envs/llms/lib/python3.11/site-packages (1.66.3)\n",
      "Requirement already satisfied: anyio<5,>=3.5.0 in /opt/anaconda3/envs/llms/lib/python3.11/site-packages (from openai) (4.8.0)\n",
      "Requirement already satisfied: distro<2,>=1.7.0 in /opt/anaconda3/envs/llms/lib/python3.11/site-packages (from openai) (1.9.0)\n",
      "Requirement already satisfied: httpx<1,>=0.23.0 in /opt/anaconda3/envs/llms/lib/python3.11/site-packages (from openai) (0.28.1)\n",
      "Requirement already satisfied: jiter<1,>=0.4.0 in /opt/anaconda3/envs/llms/lib/python3.11/site-packages (from openai) (0.8.2)\n",
      "Requirement already satisfied: pydantic<3,>=1.9.0 in /opt/anaconda3/envs/llms/lib/python3.11/site-packages (from openai) (2.10.6)\n",
      "Requirement already satisfied: sniffio in /opt/anaconda3/envs/llms/lib/python3.11/site-packages (from openai) (1.3.1)\n",
      "Requirement already satisfied: tqdm>4 in /opt/anaconda3/envs/llms/lib/python3.11/site-packages (from openai) (4.67.1)\n",
      "Requirement already satisfied: typing-extensions<5,>=4.11 in /opt/anaconda3/envs/llms/lib/python3.11/site-packages (from openai) (4.12.2)\n",
      "Requirement already satisfied: idna>=2.8 in /opt/anaconda3/envs/llms/lib/python3.11/site-packages (from anyio<5,>=3.5.0->openai) (3.10)\n",
      "Requirement already satisfied: certifi in /opt/anaconda3/envs/llms/lib/python3.11/site-packages (from httpx<1,>=0.23.0->openai) (2024.12.14)\n",
      "Requirement already satisfied: httpcore==1.* in /opt/anaconda3/envs/llms/lib/python3.11/site-packages (from httpx<1,>=0.23.0->openai) (1.0.7)\n",
      "Requirement already satisfied: h11<0.15,>=0.13 in /opt/anaconda3/envs/llms/lib/python3.11/site-packages (from httpcore==1.*->httpx<1,>=0.23.0->openai) (0.14.0)\n",
      "Requirement already satisfied: annotated-types>=0.6.0 in /opt/anaconda3/envs/llms/lib/python3.11/site-packages (from pydantic<3,>=1.9.0->openai) (0.7.0)\n",
      "Requirement already satisfied: pydantic-core==2.27.2 in /opt/anaconda3/envs/llms/lib/python3.11/site-packages (from pydantic<3,>=1.9.0->openai) (2.27.2)\n",
      "Note: you may need to restart the kernel to use updated packages.\n"
     ]
    }
   ],
   "source": [
    "%pip install --upgrade openai"
   ]
  },
  {
   "cell_type": "code",
   "execution_count": 12,
   "metadata": {},
   "outputs": [],
   "source": [
    "from openai import OpenAI\n",
    "from concurrent.futures import ThreadPoolExecutor\n",
    "from tqdm import tqdm\n",
    "import concurrent\n",
    "import PyPDF2\n",
    "import os\n",
    "import pandas as pd\n",
    "from dotenv import load_dotenv\n",
    "import gradio as gr\n",
    "from utils.api_key_checker import APIKeyChecker"
   ]
  },
  {
   "cell_type": "code",
   "execution_count": 13,
   "metadata": {},
   "outputs": [
    {
     "name": "stdout",
     "output_type": "stream",
     "text": [
      "OpenAI API Key exists and begins sk-proj-\n",
      "XAI API Key exists and begins xai-fDAl\n"
     ]
    }
   ],
   "source": [
    "# Create an instance of APIKeyChecker\n",
    "checker = APIKeyChecker()\n",
    "\n",
    "# Call the check_keys method to print the API key status\n",
    "checker.check_keys()\n",
    "\n"
   ]
  },
  {
   "cell_type": "code",
   "execution_count": 14,
   "metadata": {},
   "outputs": [],
   "source": [
    "openai_api_key = checker.get_openai_api_key()"
   ]
  },
  {
   "cell_type": "code",
   "execution_count": 15,
   "metadata": {},
   "outputs": [
    {
     "name": "stdout",
     "output_type": "stream",
     "text": [
      "13 PDF files to process\n"
     ]
    }
   ],
   "source": [
    "client = OpenAI(api_key=openai_api_key)\n",
    "\n",
    "dir_pdfs = 'mediterranean_noir_pdfs' # have those PDFs stored locally here\n",
    "pdf_files = [os.path.join(dir_pdfs, f) for f in os.listdir(dir_pdfs)]\n",
    "\n",
    "print(f\"{len(pdf_files)} PDF files to process\")"
   ]
  },
  {
   "cell_type": "code",
   "execution_count": 16,
   "metadata": {},
   "outputs": [],
   "source": [
    "def upload_single_pdf(file_path: str, vector_store_id: str):\n",
    "    file_name = os.path.basename(file_path)\n",
    "    try:\n",
    "        file_response = client.files.create(file=open(file_path, 'rb'), purpose=\"assistants\")\n",
    "        attach_response = client.vector_stores.files.create(\n",
    "            vector_store_id=vector_store_id,\n",
    "            file_id=file_response.id\n",
    "        )\n",
    "        return {\"file\": file_name, \"status\": \"success\"}\n",
    "    except Exception as e:\n",
    "        print(f\"Error with {file_name}: {str(e)}\")\n",
    "        return {\"file\": file_name, \"status\": \"failed\", \"error\": str(e)}\n",
    "\n",
    "def upload_pdf_files_to_vector_store(vector_store_id: str):\n",
    "    pdf_files = [os.path.join(dir_pdfs, f) for f in os.listdir(dir_pdfs)]\n",
    "    stats = {\"total_files\": len(pdf_files), \"successful_uploads\": 0, \"failed_uploads\": 0, \"errors\": []}\n",
    "    \n",
    "    print(f\"{len(pdf_files)} PDF files to process. Uploading in parallel...\")\n",
    "\n",
    "    with concurrent.futures.ThreadPoolExecutor(max_workers=10) as executor:\n",
    "        futures = {executor.submit(upload_single_pdf, file_path, vector_store_id): file_path for file_path in pdf_files}\n",
    "        for future in tqdm(concurrent.futures.as_completed(futures), total=len(pdf_files)):\n",
    "            result = future.result()\n",
    "            if result[\"status\"] == \"success\":\n",
    "                stats[\"successful_uploads\"] += 1\n",
    "            else:\n",
    "                stats[\"failed_uploads\"] += 1\n",
    "                stats[\"errors\"].append(result)\n",
    "\n",
    "    return stats\n",
    "\n",
    "def create_vector_store(store_name: str) -> dict:\n",
    "    try:\n",
    "        vector_store = client.vector_stores.create(name=store_name)\n",
    "        details = {\n",
    "            \"id\": vector_store.id,\n",
    "            \"name\": vector_store.name,\n",
    "            \"created_at\": vector_store.created_at,\n",
    "            \"file_count\": vector_store.file_counts.completed\n",
    "        }\n",
    "        print(\"Vector store created:\", details)\n",
    "        return details\n",
    "    except Exception as e:\n",
    "        print(f\"Error creating vector store: {e}\")\n",
    "        return {}"
   ]
  },
  {
   "cell_type": "code",
   "execution_count": 17,
   "metadata": {},
   "outputs": [
    {
     "name": "stdout",
     "output_type": "stream",
     "text": [
      "Vector store created: {'id': 'vs_67db26311d4c8191a5f1caccd8e983b9', 'name': 'mediterranean_noir_store', 'created_at': 1742415409, 'file_count': 0}\n",
      "13 PDF files to process. Uploading in parallel...\n"
     ]
    },
    {
     "name": "stderr",
     "output_type": "stream",
     "text": [
      "100%|██████████| 13/13 [00:03<00:00,  3.26it/s]\n"
     ]
    },
    {
     "data": {
      "text/plain": [
       "{'total_files': 13,\n",
       " 'successful_uploads': 13,\n",
       " 'failed_uploads': 0,\n",
       " 'errors': []}"
      ]
     },
     "execution_count": 17,
     "metadata": {},
     "output_type": "execute_result"
    }
   ],
   "source": [
    "store_name = \"mediterranean_noir_store\"\n",
    "vector_store_details = create_vector_store(store_name)\n",
    "upload_pdf_files_to_vector_store(vector_store_details[\"id\"])"
   ]
  },
  {
   "cell_type": "code",
   "execution_count": 22,
   "metadata": {},
   "outputs": [],
   "source": [
    "def chat(message):\n",
    "    query = message\n",
    "    response = client.responses.create(\n",
    "        input= query,\n",
    "        instructions=\"Answer the question with as much detail as you can.\",\n",
    "        model=\"gpt-4o-mini\",\n",
    "        tools=[{\n",
    "            \"type\": \"file_search\",\n",
    "            \"vector_store_ids\": [vector_store_details['id']],\n",
    "        }]\n",
    "    )\n",
    "    print(response.output)\n",
    "\n",
    "    if len(response.output) == 1:\n",
    "        print(response)\n",
    "        return response.output[0].content[0].text\n",
    "    \n",
    "\n",
    "    # Extract annotations from the response\n",
    "    annotations = response.output[1].content[0].annotations\n",
    "    \n",
    "    # # Get top-k retrieved filenames\n",
    "    retrieved_files = set([result.filename for result in annotations])\n",
    "\n",
    "    answer = f'Files used: {retrieved_files}' + '\\n' + 'Response:' + response.output[1].content[0].text\n",
    "\n",
    "    return answer\n",
    "\n",
    "\n",
    "\n"
   ]
  },
  {
   "cell_type": "code",
   "execution_count": null,
   "metadata": {},
   "outputs": [
    {
     "name": "stdout",
     "output_type": "stream",
     "text": [
      "* Running on local URL:  http://127.0.0.1:7869\n",
      "\n",
      "To create a public link, set `share=True` in `launch()`.\n"
     ]
    },
    {
     "data": {
      "text/html": [
       "<div><iframe src=\"http://127.0.0.1:7869/\" width=\"100%\" height=\"500\" allow=\"autoplay; camera; microphone; clipboard-read; clipboard-write;\" frameborder=\"0\" allowfullscreen></iframe></div>"
      ],
      "text/plain": [
       "<IPython.core.display.HTML object>"
      ]
     },
     "metadata": {},
     "output_type": "display_data"
    },
    {
     "data": {
      "text/plain": []
     },
     "execution_count": 23,
     "metadata": {},
     "output_type": "execute_result"
    },
    {
     "name": "stdout",
     "output_type": "stream",
     "text": [
      "[ResponseFileSearchToolCall(id='fs_67db2f3d68c48190aa58d582fa0a8078024f8bb83c4b7568', queries=['Alligator series'], status='completed', type='file_search_call', results=None), ResponseOutputMessage(id='msg_67db2f3ebbec81908f63e7cf6953cdf6024f8bb83c4b7568', content=[ResponseOutputText(annotations=[AnnotationFileCitation(file_id='file-3Z5i51FdQn3usTSnA7b6H5', index=831, type='file_citation', filename='Chapter 5: Characters in Mediterranean Noir.pdf'), AnnotationFileCitation(file_id='file-3Z5i51FdQn3usTSnA7b6H5', index=831, type='file_citation', filename='Chapter 5: Characters in Mediterranean Noir.pdf'), AnnotationFileCitation(file_id='file-XJQ9rRdFJ5LdaHap1zT6JA', index=1100, type='file_citation', filename='Chapter 2: Common Themes and Motifs.pdf'), AnnotationFileCitation(file_id='file-3Z5i51FdQn3usTSnA7b6H5', index=1100, type='file_citation', filename='Chapter 5: Characters in Mediterranean Noir.pdf'), AnnotationFileCitation(file_id='file-3Z5i51FdQn3usTSnA7b6H5', index=1272, type='file_citation', filename='Chapter 5: Characters in Mediterranean Noir.pdf'), AnnotationFileCitation(file_id='file-XJQ9rRdFJ5LdaHap1zT6JA', index=1272, type='file_citation', filename='Chapter 2: Common Themes and Motifs.pdf'), AnnotationFileCitation(file_id='file-3Z5i51FdQn3usTSnA7b6H5', index=1623, type='file_citation', filename='Chapter 5: Characters in Mediterranean Noir.pdf'), AnnotationFileCitation(file_id='file-3Z5i51FdQn3usTSnA7b6H5', index=1623, type='file_citation', filename='Chapter 5: Characters in Mediterranean Noir.pdf'), AnnotationFileCitation(file_id='file-3Z5i51FdQn3usTSnA7b6H5', index=1888, type='file_citation', filename='Chapter 5: Characters in Mediterranean Noir.pdf'), AnnotationFileCitation(file_id='file-3Z5i51FdQn3usTSnA7b6H5', index=1888, type='file_citation', filename='Chapter 5: Characters in Mediterranean Noir.pdf')], text=\"The Alligator series, penned by Italian author Massimo Carlotto, centers around the character Marco Buratti, an ex-convict and private investigator. This series is a significant contribution to the Mediterranean noir genre, which often explores the themes of morality, justice, and social justice amidst the backdrop of a corrupt society.\\n\\n### Key Elements of the Alligator Series:\\n\\n1. **Protagonist - Marco Buratti**:\\n   - Buratti navigates a morally ambiguous world filled with deception and betrayal. His character is deeply affected by his past and is often depicted grappling with the darker aspects of human nature.\\n   - Carlotto's portrayal of Buratti highlights his emotional scars and the intricate dynamics of his relationships, particularly with women, reflecting his longing for connection in an unforgiving environment.\\n\\n2. **Themes**:\\n   - **Morality and Ethics**: The series often blurs the lines between good and evil, positioning Buratti in situations that challenge traditional moral frameworks. Readers see a protagonist who sometimes operates outside the law in pursuit of justice.\\n   - **Corruption and Power**: The Alligator series exposes the systemic corruption within society, portraying how deeply ingrained social injustices affect everyday life.\\n\\n3. **Narrative Style**:\\n   - Carlotto's narratives are steeped in rich descriptions that capture the essence of Mediterranean life, intertwining local culture, cuisine, and landscape with the unfolding criminal plots. This enhances the atmospheric quality of the stories and reflects the social and cultural intricacies of the Mediterranean regions.\\n\\n4. **Cultural Commentary**:\\n   - The series serves as a commentary on societal issues, including crime, economic disparity, and the legacy of Italy's recent history. It portrays marginalized communities and their struggles within a cultural and political context.\\n\\nIn conclusion, the Alligator series by Massimo Carlotto is not just a collection of crime stories but a multifaceted exploration of human nature, shaped by the complexities of the Mediterranean landscape and societal challenges. Through Buratti's journey, readers confront the darker side of humanity while being tied to the region's cultural narratives.\", type='output_text')], role='assistant', status='completed', type='message')]\n",
      "[ResponseOutputMessage(id='msg_67db2f509b7881908c90f2e3328c048b02ce566db863fb74', content=[ResponseOutputText(annotations=[], text='Hello! How can I assist you today? If you have any questions or need help with the files you uploaded, feel free to let me know!', type='output_text')], role='assistant', status='completed', type='message')]\n",
      "Response(id='resp_67db2f50104c8190ba817f9f7706228902ce566db863fb74', created_at=1742417744.0, error=None, incomplete_details=None, instructions='Answer the question with as much detail as you can.', metadata={}, model='gpt-4o-mini-2024-07-18', object='response', output=[ResponseOutputMessage(id='msg_67db2f509b7881908c90f2e3328c048b02ce566db863fb74', content=[ResponseOutputText(annotations=[], text='Hello! How can I assist you today? If you have any questions or need help with the files you uploaded, feel free to let me know!', type='output_text')], role='assistant', status='completed', type='message')], parallel_tool_calls=True, temperature=1.0, tool_choice='auto', tools=[FileSearchTool(type='file_search', vector_store_ids=['vs_67db26311d4c8191a5f1caccd8e983b9'], filters=None, max_num_results=20, ranking_options=RankingOptions(ranker='auto', score_threshold=0.0))], top_p=1.0, max_output_tokens=None, previous_response_id=None, reasoning=Reasoning(effort=None, generate_summary=None), status='completed', text=ResponseTextConfig(format=ResponseFormatText(type='text')), truncation='disabled', usage=ResponseUsage(input_tokens=829, output_tokens=32, output_tokens_details=OutputTokensDetails(reasoning_tokens=0), total_tokens=861, input_tokens_details={'cached_tokens': 0}), user=None, store=True)\n",
      "[ResponseOutputMessage(id='msg_67db2f76041081908b8e32a1e90117b8046a5129fac041c9', content=[ResponseOutputText(annotations=[], text='No, Paris is not in Germany. Paris is the capital city of France, located in the north-central part of the country. Germany is a separate country located to the east of France. The two nations share a border, but their capitals are distinct, with Paris in France and Berlin as the capital of Germany.', type='output_text')], role='assistant', status='completed', type='message')]\n",
      "Response(id='resp_67db2f7595348190a9cae9d56b90ca21046a5129fac041c9', created_at=1742417781.0, error=None, incomplete_details=None, instructions='Answer the question with as much detail as you can.', metadata={}, model='gpt-4o-mini-2024-07-18', object='response', output=[ResponseOutputMessage(id='msg_67db2f76041081908b8e32a1e90117b8046a5129fac041c9', content=[ResponseOutputText(annotations=[], text='No, Paris is not in Germany. Paris is the capital city of France, located in the north-central part of the country. Germany is a separate country located to the east of France. The two nations share a border, but their capitals are distinct, with Paris in France and Berlin as the capital of Germany.', type='output_text')], role='assistant', status='completed', type='message')], parallel_tool_calls=True, temperature=1.0, tool_choice='auto', tools=[FileSearchTool(type='file_search', vector_store_ids=['vs_67db26311d4c8191a5f1caccd8e983b9'], filters=None, max_num_results=20, ranking_options=RankingOptions(ranker='auto', score_threshold=0.0))], top_p=1.0, max_output_tokens=None, previous_response_id=None, reasoning=Reasoning(effort=None, generate_summary=None), status='completed', text=ResponseTextConfig(format=ResponseFormatText(type='text')), truncation='disabled', usage=ResponseUsage(input_tokens=833, output_tokens=65, output_tokens_details=OutputTokensDetails(reasoning_tokens=0), total_tokens=898, input_tokens_details={'cached_tokens': 0}), user=None, store=True)\n",
      "[ResponseOutputMessage(id='msg_67db2f91a3688190a0b34174d9227a8f09e1e70780f26313', content=[ResponseOutputText(annotations=[], text=\"Hello! How can I assist you today? If you have any questions or need information from the files you've uploaded, just let me know!\", type='output_text')], role='assistant', status='completed', type='message')]\n",
      "Response(id='resp_67db2f912d088190b3ae70bde24b738b09e1e70780f26313', created_at=1742417809.0, error=None, incomplete_details=None, instructions='Answer the question with as much detail as you can.', metadata={}, model='gpt-4o-mini-2024-07-18', object='response', output=[ResponseOutputMessage(id='msg_67db2f91a3688190a0b34174d9227a8f09e1e70780f26313', content=[ResponseOutputText(annotations=[], text=\"Hello! How can I assist you today? If you have any questions or need information from the files you've uploaded, just let me know!\", type='output_text')], role='assistant', status='completed', type='message')], parallel_tool_calls=True, temperature=1.0, tool_choice='auto', tools=[FileSearchTool(type='file_search', vector_store_ids=['vs_67db26311d4c8191a5f1caccd8e983b9'], filters=None, max_num_results=20, ranking_options=RankingOptions(ranker='auto', score_threshold=0.0))], top_p=1.0, max_output_tokens=None, previous_response_id=None, reasoning=Reasoning(effort=None, generate_summary=None), status='completed', text=ResponseTextConfig(format=ResponseFormatText(type='text')), truncation='disabled', usage=ResponseUsage(input_tokens=829, output_tokens=30, output_tokens_details=OutputTokensDetails(reasoning_tokens=0), total_tokens=859, input_tokens_details={'cached_tokens': 0}), user=None, store=True)\n",
      "[ResponseFileSearchToolCall(id='fs_67db2f9cfc488190ac86051590008f4c0f8f205e22a6c7d6', queries=['Alligator series'], status='completed', type='file_search_call', results=None), ResponseOutputMessage(id='msg_67db2f9e32d08190ad8426d9a1c74d240f8f205e22a6c7d6', content=[ResponseOutputText(annotations=[AnnotationFileCitation(file_id='file-XJQ9rRdFJ5LdaHap1zT6JA', index=729, type='file_citation', filename='Chapter 2: Common Themes and Motifs.pdf'), AnnotationFileCitation(file_id='file-3Z5i51FdQn3usTSnA7b6H5', index=729, type='file_citation', filename='Chapter 5: Characters in Mediterranean Noir.pdf'), AnnotationFileCitation(file_id='file-XJQ9rRdFJ5LdaHap1zT6JA', index=989, type='file_citation', filename='Chapter 2: Common Themes and Motifs.pdf'), AnnotationFileCitation(file_id='file-XJQ9rRdFJ5LdaHap1zT6JA', index=989, type='file_citation', filename='Chapter 2: Common Themes and Motifs.pdf'), AnnotationFileCitation(file_id='file-XJQ9rRdFJ5LdaHap1zT6JA', index=1284, type='file_citation', filename='Chapter 2: Common Themes and Motifs.pdf'), AnnotationFileCitation(file_id='file-XJQ9rRdFJ5LdaHap1zT6JA', index=1413, type='file_citation', filename='Chapter 2: Common Themes and Motifs.pdf'), AnnotationFileCitation(file_id='file-3Z5i51FdQn3usTSnA7b6H5', index=1413, type='file_citation', filename='Chapter 5: Characters in Mediterranean Noir.pdf'), AnnotationFileCitation(file_id='file-3Z5i51FdQn3usTSnA7b6H5', index=1796, type='file_citation', filename='Chapter 5: Characters in Mediterranean Noir.pdf'), AnnotationFileCitation(file_id='file-3Z5i51FdQn3usTSnA7b6H5', index=1796, type='file_citation', filename='Chapter 5: Characters in Mediterranean Noir.pdf'), AnnotationFileCitation(file_id='file-XJQ9rRdFJ5LdaHap1zT6JA', index=2337, type='file_citation', filename='Chapter 2: Common Themes and Motifs.pdf'), AnnotationFileCitation(file_id='file-NCLXUE5SkTEgxbDDjxbXK3', index=2337, type='file_citation', filename='Chapter 10: The Future of Mediterranean Noir.pdf')], text=\"The **Alligator series** by Massimo Carlotto features the character Marco Buratti, an ex-convict who becomes a private investigator navigating a morally ambiguous landscape within a corrupt society. The series is a prime example of Mediterranean noir, blending crime fiction with deep explorations of social issues and personal dilemmas.\\n\\n### Key Themes and Characteristics:\\n\\n1. **Moral Ambiguity**: Central to the Alligator series is the exploration of morality and ethics. Characters often find themselves in complex situations where the lines between good and evil are blurred. Buratti exemplifies this, as he operates in a world filled with deception and betrayal, reflecting the challenges of seeking justice outside the law.\\n\\n2. **Corruption and Power**: Carlotto's narratives often highlight the intricate relationships between crime and authority. Institutional decay and the complicity of those in power are recurrent themes, suggesting that corruption is pervasive within society. Buratti's experiences illustrate the struggles of individuals against systemic injustice.\\n\\n3. **Impact of the Past**: The past significantly influences the characters’ motivations and actions. Buratti is haunted by his history, which shapes his interactions and decisions throughout the series. Carlotto intertwines individual backstories with broader societal issues, revealing how unresolved histories affect the present.\\n\\n4. **Character Depth**: The Alligator series delves deeply into Buratti’s character, exploring emotional scars and the complexities of masculinity in the context of crime. His relationships are marked by tension and frailty, reflecting his need for connection in a harsh world. Carlotto uses these personal dynamics to engage with broader themes of identity and societal pressures.\\n\\n### Notable Works in the Series:\\nWhile specific titles from the Alligator series are not detailed in the provided excerpts, the overarching themes discussed can be recognized throughout the collection of Buratti's adventures.\\n\\n### Influence and Critical Reception:\\nMassimo Carlotto's writing has gained critical acclaim for its ability to weave social critique with compelling narratives. The Alligator series not only entertains but also invites readers to grapple with questions of morality, justice, and human adaptability amidst chaos.\\n\\nIn summary, the **Alligator series** serves as a significant contribution to Mediterranean noir, characterized by its complex characters, thematic depth, and a reflection of societal malaise. Through Marco Buratti, Carlotto navigates a world where crime and corruption intertwine with the search for personal and social redemption.\", type='output_text')], role='assistant', status='completed', type='message')]\n",
      "[ResponseOutputMessage(id='msg_67db2fb986908190aaa5deca2767c34d06ad011320cd6e3b', content=[ResponseOutputText(annotations=[], text='The result of \\\\( 5 \\\\times 7 \\\\) is \\\\( 35 \\\\).', type='output_text')], role='assistant', status='completed', type='message')]\n",
      "Response(id='resp_67db2fb92dd48190ad5cabe9fda51a3506ad011320cd6e3b', created_at=1742417849.0, error=None, incomplete_details=None, instructions='Answer the question with as much detail as you can.', metadata={}, model='gpt-4o-mini-2024-07-18', object='response', output=[ResponseOutputMessage(id='msg_67db2fb986908190aaa5deca2767c34d06ad011320cd6e3b', content=[ResponseOutputText(annotations=[], text='The result of \\\\( 5 \\\\times 7 \\\\) is \\\\( 35 \\\\).', type='output_text')], role='assistant', status='completed', type='message')], parallel_tool_calls=True, temperature=1.0, tool_choice='auto', tools=[FileSearchTool(type='file_search', vector_store_ids=['vs_67db26311d4c8191a5f1caccd8e983b9'], filters=None, max_num_results=20, ranking_options=RankingOptions(ranker='auto', score_threshold=0.0))], top_p=1.0, max_output_tokens=None, previous_response_id=None, reasoning=Reasoning(effort=None, generate_summary=None), status='completed', text=ResponseTextConfig(format=ResponseFormatText(type='text')), truncation='disabled', usage=ResponseUsage(input_tokens=835, output_tokens=20, output_tokens_details=OutputTokensDetails(reasoning_tokens=0), total_tokens=855, input_tokens_details={'cached_tokens': 0}), user=None, store=True)\n"
     ]
    }
   ],
   "source": [
    "gr.Interface(fn=chat, inputs=\"textbox\", outputs=\"textbox\").launch()"
   ]
  },
  {
   "cell_type": "code",
   "execution_count": null,
   "metadata": {},
   "outputs": [],
   "source": []
  }
 ],
 "metadata": {
  "kernelspec": {
   "display_name": "llms",
   "language": "python",
   "name": "python3"
  },
  "language_info": {
   "codemirror_mode": {
    "name": "ipython",
    "version": 3
   },
   "file_extension": ".py",
   "mimetype": "text/x-python",
   "name": "python",
   "nbconvert_exporter": "python",
   "pygments_lexer": "ipython3",
   "version": "3.11.11"
  }
 },
 "nbformat": 4,
 "nbformat_minor": 2
}
