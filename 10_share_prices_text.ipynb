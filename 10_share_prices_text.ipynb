{
 "cells": [
  {
   "cell_type": "code",
   "execution_count": 10,
   "id": "22d8d60d",
   "metadata": {},
   "outputs": [
    {
     "name": "stdout",
     "output_type": "stream",
     "text": [
      "* Running on local URL:  http://127.0.0.1:7885\n",
      "\n",
      "To create a public link, set `share=True` in `launch()`.\n"
     ]
    },
    {
     "data": {
      "text/html": [
       "<div><iframe src=\"http://127.0.0.1:7885/\" width=\"100%\" height=\"500\" allow=\"autoplay; camera; microphone; clipboard-read; clipboard-write;\" frameborder=\"0\" allowfullscreen></iframe></div>"
      ],
      "text/plain": [
       "<IPython.core.display.HTML object>"
      ]
     },
     "metadata": {},
     "output_type": "display_data"
    },
    {
     "data": {
      "text/plain": []
     },
     "execution_count": 10,
     "metadata": {},
     "output_type": "execute_result"
    }
   ],
   "source": [
    "import yfinance as yf\n",
    "import gradio as gr\n",
    "\n",
    "def get_share_prices(company_name, period):\n",
    "    try:\n",
    "        # Use yfinance to search for the company ticker\n",
    "        ticker = yf.Ticker(company_name)\n",
    "        # Fetch historical data for the past 5 days\n",
    "        historical_data = ticker.history(period=period)\n",
    "        # Format the data for display\n",
    "        if not historical_data.empty:\n",
    "            return historical_data[['Close']].to_string()\n",
    "        else:\n",
    "            return \"No data found for the given company name.\"\n",
    "    except Exception as e:\n",
    "        return f\"An error occurred: {str(e)}\"\n",
    "\n",
    "# Create a Gradio interface\n",
    "interface = gr.Interface(\n",
    "    fn=get_share_prices,\n",
    "    inputs=[\n",
    "        gr.Textbox(label=\"Company Ticker Symbol\"),\n",
    "        gr.Textbox(label=\"Period (e.g., 5d, 30d, 1y)\")\n",
    "    ],\n",
    "    outputs=\"text\",\n",
    "    title=\"Company Share Price Viewer\",\n",
    "    description=\"Enter the company's ticker symbol to get the share prices for the past 5 days.\"\n",
    ")\n",
    "\n",
    "# Launch the Gradio app\n",
    "interface.launch()"
   ]
  },
  {
   "cell_type": "code",
   "execution_count": null,
   "id": "2e393f65",
   "metadata": {},
   "outputs": [],
   "source": []
  }
 ],
 "metadata": {
  "kernelspec": {
   "display_name": "llms",
   "language": "python",
   "name": "python3"
  },
  "language_info": {
   "codemirror_mode": {
    "name": "ipython",
    "version": 3
   },
   "file_extension": ".py",
   "mimetype": "text/x-python",
   "name": "python",
   "nbconvert_exporter": "python",
   "pygments_lexer": "ipython3",
   "version": "3.11.11"
  }
 },
 "nbformat": 4,
 "nbformat_minor": 5
}
