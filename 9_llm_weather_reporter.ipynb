{
 "cells": [
  {
   "cell_type": "code",
   "execution_count": 10,
   "id": "97c4cfef",
   "metadata": {},
   "outputs": [],
   "source": [
    "import os\n",
    "from typing import List\n",
    "from dotenv import load_dotenv\n",
    "import openai\n",
    "import requests\n",
    "import gradio as gr"
   ]
  },
  {
   "cell_type": "code",
   "execution_count": 11,
   "id": "546c3372",
   "metadata": {},
   "outputs": [
    {
     "name": "stdout",
     "output_type": "stream",
     "text": [
      "OpenAI API Key exists and begins sk-proj-\n"
     ]
    }
   ],
   "source": [
    "# Set your OpenAI API key\n",
    "\n",
    "load_dotenv()\n",
    "openai_api_key = os.getenv('OPENAI_API_KEY')\n",
    "\n",
    "if openai_api_key:\n",
    "    print(f\"OpenAI API Key exists and begins {openai_api_key[:8]}\")\n",
    "else:\n",
    "    print(\"OpenAI API Key not set\")\n",
    "\n",
    "\n",
    "# Set your weather API key (e.g., OpenWeatherMap)\n",
    "weather_api_key = \"96f2d47a11bf0aa1eb6964cd4cc3a0bc\"\n"
   ]
  },
  {
   "cell_type": "code",
   "execution_count": 28,
   "id": "8a03975c",
   "metadata": {},
   "outputs": [
    {
     "name": "stdout",
     "output_type": "stream",
     "text": [
      "* Running on local URL:  http://127.0.0.1:7880\n",
      "\n",
      "To create a public link, set `share=True` in `launch()`.\n"
     ]
    },
    {
     "data": {
      "text/html": [
       "<div><iframe src=\"http://127.0.0.1:7880/\" width=\"100%\" height=\"500\" allow=\"autoplay; camera; microphone; clipboard-read; clipboard-write;\" frameborder=\"0\" allowfullscreen></iframe></div>"
      ],
      "text/plain": [
       "<IPython.core.display.HTML object>"
      ]
     },
     "metadata": {},
     "output_type": "display_data"
    },
    {
     "data": {
      "text/plain": []
     },
     "execution_count": 28,
     "metadata": {},
     "output_type": "execute_result"
    }
   ],
   "source": [
    "\n",
    "def get_weather_forecast(location, days):\n",
    "    # Fetch weather data from OpenWeatherMap API\n",
    "    url = f\"http://api.openweathermap.org/data/2.5/forecast?q={location}&appid={weather_api_key}&units=metric\"\n",
    "    response = requests.get(url)\n",
    "    \n",
    "    if response.status_code == 200:\n",
    "        weather_data = response.json()\n",
    "        forecast = []\n",
    "        for item in weather_data['list']:\n",
    "            date = item['dt_txt']\n",
    "            temp = item['main']['temp']\n",
    "            description = item['weather'][0]['description']\n",
    "            forecast.append(f\"{date}: {temp}°C, {description}\")\n",
    "        return \"\\n\".join(forecast)\n",
    "    else:\n",
    "        return \"Sorry, I couldn't fetch the weather data. Please check the location or try again later.\"\n",
    "\n",
    "# A generic system message\n",
    "system_message = \"You are a helpful weather forecasting assistant assistant\"\n",
    "\n",
    "def chat_with_llm(location, history):\n",
    "    # Get weather forecast\n",
    "    forecast = get_weather_forecast(location, 3)\n",
    "    \n",
    "    # Use OpenAI LLM to generate a response\n",
    "    prompt = f\"The user asked for a 3-day weather forecast for {location}. Here is the forecast:\\n{forecast}\\n\\nGenerate a friendly response for the user.\"\n",
    "    # messages = [\n",
    "    #     {\"role\": \"system\", \"content\": system_message},\n",
    "    #     {\"role\": \"user\", \"content\": prompt}\n",
    "    #   ]\n",
    "    \n",
    "    messages = [{\"role\": \"system\", \"content\": system_message}] + history + [{\"role\": \"user\", \"content\": prompt}]\n",
    "\n",
    "    completion = openai.chat.completions.create(\n",
    "        model='gpt-4o-mini',\n",
    "        messages=messages,\n",
    "        max_tokens=600\n",
    "    )\n",
    "    \n",
    "    response = completion.choices[0].message.content\n",
    "    return response\n",
    "\n",
    "\n",
    "\n",
    "# Gradio interface\n",
    "interface = gr.ChatInterface(fn=chat_with_llm, type=\"messages\")\n",
    "interface.launch()"
   ]
  },
  {
   "cell_type": "code",
   "execution_count": null,
   "id": "2198b2a2",
   "metadata": {},
   "outputs": [],
   "source": []
  },
  {
   "cell_type": "code",
   "execution_count": null,
   "id": "78502415",
   "metadata": {
    "vscode": {
     "languageId": "markdown"
    }
   },
   "outputs": [],
   "source": []
  },
  {
   "cell_type": "code",
   "execution_count": null,
   "id": "bc7697fb",
   "metadata": {},
   "outputs": [],
   "source": []
  }
 ],
 "metadata": {
  "kernelspec": {
   "display_name": "llms",
   "language": "python",
   "name": "python3"
  },
  "language_info": {
   "codemirror_mode": {
    "name": "ipython",
    "version": 3
   },
   "file_extension": ".py",
   "mimetype": "text/x-python",
   "name": "python",
   "nbconvert_exporter": "python",
   "pygments_lexer": "ipython3",
   "version": "3.11.11"
  }
 },
 "nbformat": 4,
 "nbformat_minor": 5
}
