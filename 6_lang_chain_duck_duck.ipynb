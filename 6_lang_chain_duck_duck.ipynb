{
 "cells": [
  {
   "cell_type": "code",
   "execution_count": 1,
   "metadata": {},
   "outputs": [
    {
     "name": "stdout",
     "output_type": "stream",
     "text": [
      "Note: you may need to restart the kernel to use updated packages.\n"
     ]
    }
   ],
   "source": [
    "%pip install -qU duckduckgo-search langchain-community"
   ]
  },
  {
   "cell_type": "code",
   "execution_count": 2,
   "metadata": {},
   "outputs": [
    {
     "data": {
      "text/plain": [
       "'snippet: Grimsby Town moved to Blundell Park in 1899 having moved from their first ground, Abbey Park. Blundell Park is named after Peter Blundell who bought the land that Blundell Park is located on. Luton Town were the very first visitors to Blundell Park in September 1899 where 4,000 spectators saw a 3-3 draw played out., title: Blundell Park | Grimsby Town FC | Football Ground Guide, link: https://footballgroundguide.com/leagues/england/league-two/blundell-park-grimsby-town.html, snippet: Grimsby Town Football Club, EFL Sky Bet League Two, Located Blundell Park, Cleethorpes. Visit our website to purchase tickets and more., title: Home - Grimsby Town Football Club, link: https://gtfc.co.uk/, snippet: New Message from: Cam McJannet! See you tom. 12 for the Skipper! Swipe to watch Rose. Giddy up, cowboy! 鸞 #GTFC, title: Blundell Park - Grimsby Town Football Club, link: https://gtfc.co.uk/stadium/blundell-park/, snippet: Grimsby Town have been after a new ground, or wanting to significantly modernise this one, for years. I get why. The press room is a small Portakabin next to where the club mascot gets into his ..., title: My pilgrimage to Grimsby and the best football ground in England, link: https://inews.co.uk/sport/football/grimsby-town-best-football-ground-england-3456166'"
      ]
     },
     "execution_count": 2,
     "metadata": {},
     "output_type": "execute_result"
    }
   ],
   "source": [
    "# from langchain_community.tools import DuckDuckGoSearchRun\n",
    "from langchain_community.tools import DuckDuckGoSearchResults\n",
    "\n",
    "# search = DuckDuckGoSearchRun()\n",
    "search = DuckDuckGoSearchResults()\n",
    "\n",
    "search.invoke(\"Grimsby Town's ground?\")"
   ]
  },
  {
   "cell_type": "code",
   "execution_count": null,
   "metadata": {},
   "outputs": [],
   "source": []
  }
 ],
 "metadata": {
  "kernelspec": {
   "display_name": "llms",
   "language": "python",
   "name": "python3"
  },
  "language_info": {
   "codemirror_mode": {
    "name": "ipython",
    "version": 3
   },
   "file_extension": ".py",
   "mimetype": "text/x-python",
   "name": "python",
   "nbconvert_exporter": "python",
   "pygments_lexer": "ipython3",
   "version": "3.11.11"
  }
 },
 "nbformat": 4,
 "nbformat_minor": 2
}
