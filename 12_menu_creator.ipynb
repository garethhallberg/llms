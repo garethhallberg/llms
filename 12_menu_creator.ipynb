{
 "cells": [
  {
   "cell_type": "code",
   "execution_count": 1,
   "id": "9063fb90",
   "metadata": {},
   "outputs": [],
   "source": [
    "import os\n",
    "from datetime import datetime\n",
    "import anthropic\n",
    "from dotenv import load_dotenv"
   ]
  },
  {
   "cell_type": "code",
   "execution_count": 2,
   "id": "42c3456e",
   "metadata": {},
   "outputs": [
    {
     "name": "stdout",
     "output_type": "stream",
     "text": [
      "Anthropic API Key exists and begins sk-ant-a\n"
     ]
    }
   ],
   "source": [
    "load_dotenv()\n",
    "anthropic_api_key = os.getenv('ANTHROPIC_API_KEY')\n",
    "\n",
    "if anthropic_api_key:\n",
    "    print(f\"Anthropic API Key exists and begins {anthropic_api_key[:8]}\")\n",
    "else:\n",
    "    print(\"Anthropic API Key not set\")\n",
    "\n",
    "# Initialize Anthropic client\n",
    "client = anthropic.Client(api_key=anthropic_api_key)"
   ]
  },
  {
   "cell_type": "code",
   "execution_count": null,
   "id": "7fc9ea0a",
   "metadata": {
    "vscode": {
     "languageId": "r"
    }
   },
   "outputs": [
    {
     "name": "stdout",
     "output_type": "stream",
     "text": [
      "Message(id='msg_01RBeupm8L9Jhk4KKonxBzG5', content=[TextBlock(citations=None, text=\"Here's a weekly vegetarian menu with balanced meals and a variety of ingredients:\\n\\nMonday:\\nBreakfast: Overnight oats with almond milk, chia seeds, and mixed berries\\nLunch: Quinoa salad with roasted vegetables, feta cheese, and balsamic dressing\\nDinner: Lentil and vegetable curry with brown rice and yogurt\\n\\nTuesday:\\nBreakfast: Whole-grain toast with avocado, tomato slices, and nutritional yeast\\nLunch: Grilled portobello mushroom burger with mixed greens and sweet potato wedges\\nDinner: Vegetarian chili with cornbread and a side salad\\n\\nWednesday:\\nBreakfast: Tofu scramble with spinach, bell peppers, and onions, served with whole-grain toast\\nLunch: Chickpea and vegetable wrap with hummus and tahini dressing\\nDinner: Stuffed bell peppers with quinoa, black beans, corn, and salsa\\n\\nThursday:\\nBreakfast: Green smoothie bowl with spinach, banana, almond butter, and granola\\nLunch: Caprese sandwich with fresh mozzarella, tomato, basil, and balsamic glaze on ciabatta bread\\nDinner: Vegetable stir-fry with tofu, broccoli, carrots, and snap peas, served over brown rice\\n\\nFriday:\\nBreakfast: Whole-grain waffles with almond butter and sliced bananas\\nLunch: Greek salad with romaine lettuce, cucumber, tomatoes, red onion, olives, and feta cheese\\nDinner: Eggplant parmesan with whole-wheat pasta and marinara sauce\\n\\nSaturday:\\nBreakfast: Breakfast burrito with scrambled eggs, black beans, salsa, and avocado\\nLunch: Vegetable and bean soup with whole-grain crackers\\nDinner: Vegetarian lasagna with spinach, ricotta, and mozzarella cheese\\n\\nSunday:\\nBreakfast: Whole-grain pancakes with fresh berries and maple syrup\\nLunch: Veggie and hummus wrap with carrots, cucumbers, and mixed greens\\nDinner: Stuffed sweet potatoes with black beans, corn, salsa, and guacamole\", type='text')], model='claude-3-opus-20240229', role='assistant', stop_reason='end_turn', stop_sequence=None, type='message', usage=Usage(cache_creation_input_tokens=0, cache_read_input_tokens=0, input_tokens=51, output_tokens=516))\n"
     ]
    },
    {
     "ename": "TypeError",
     "evalue": "write() argument must be str, not Message",
     "output_type": "error",
     "traceback": [
      "\u001b[0;31m---------------------------------------------------------------------------\u001b[0m",
      "\u001b[0;31mTypeError\u001b[0m                                 Traceback (most recent call last)",
      "Cell \u001b[0;32mIn[6], line 33\u001b[0m\n\u001b[1;32m     31\u001b[0m \u001b[38;5;66;03m# Save the menu to the file\u001b[39;00m\n\u001b[1;32m     32\u001b[0m \u001b[38;5;28;01mwith\u001b[39;00m \u001b[38;5;28mopen\u001b[39m(filename, \u001b[38;5;124m\"\u001b[39m\u001b[38;5;124mw\u001b[39m\u001b[38;5;124m\"\u001b[39m) \u001b[38;5;28;01mas\u001b[39;00m file:\n\u001b[0;32m---> 33\u001b[0m     \u001b[43mfile\u001b[49m\u001b[38;5;241;43m.\u001b[39;49m\u001b[43mwrite\u001b[49m\u001b[43m(\u001b[49m\u001b[43mmenu\u001b[49m\u001b[43m)\u001b[49m\n\u001b[1;32m     35\u001b[0m \u001b[38;5;28mprint\u001b[39m(\u001b[38;5;124mf\u001b[39m\u001b[38;5;124m\"\u001b[39m\u001b[38;5;124mWeekly vegetarian menu saved to \u001b[39m\u001b[38;5;132;01m{\u001b[39;00mfilename\u001b[38;5;132;01m}\u001b[39;00m\u001b[38;5;124m\"\u001b[39m)\n",
      "\u001b[0;31mTypeError\u001b[0m: write() argument must be str, not Message"
     ]
    }
   ],
   "source": [
    "\n",
    "# Prompt for generating a vegetarian weekly menu\n",
    "prompt = \"\"\"\n",
    "Generate a weekly vegetarian menu with breakfast, lunch, and dinner for each day. \n",
    "Ensure the meals are balanced and include a variety of ingredients.\n",
    "\"\"\"\n",
    "\n",
    "# Call Anthropic's LLM\n",
    "\n",
    "response = anthropic.Anthropic().messages.create(\n",
    "    model=\"claude-3-opus-20240229\",\n",
    "    max_tokens=1024,\n",
    "    system=\"You are an expert at creating vegetarian menus\", # <-- system prompt\n",
    "    messages=[\n",
    "        {\"role\": \"user\", \"content\": prompt}\n",
    "    ]\n",
    ")\n",
    "\n",
    "\n",
    "# Get the generated menu\n",
    "menu = response.content.text\n",
    "\n",
    "print(menu)\n",
    "\n",
    "# Create the weekly_menu folder if it doesn't exist\n",
    "os.makedirs(\"weekly_menu\", exist_ok=True)\n",
    "\n",
    "# Generate a timestamped filename\n",
    "timestamp = datetime.now().strftime(\"%Y%m%d_%H%M%S\")\n",
    "filename = f\"weekly_menu/menu_{timestamp}.txt\"\n",
    "\n",
    "# Save the menu to the file\n",
    "with open(filename, \"w\") as file:\n",
    "    file.write(menu)\n",
    "\n",
    "print(f\"Weekly vegetarian menu saved to {filename}\")"
   ]
  },
  {
   "cell_type": "code",
   "execution_count": null,
   "id": "bafb8af6",
   "metadata": {},
   "outputs": [],
   "source": []
  }
 ],
 "metadata": {
  "kernelspec": {
   "display_name": "llms",
   "language": "python",
   "name": "python3"
  },
  "language_info": {
   "codemirror_mode": {
    "name": "ipython",
    "version": 3
   },
   "file_extension": ".py",
   "mimetype": "text/x-python",
   "name": "python",
   "nbconvert_exporter": "python",
   "pygments_lexer": "ipython3",
   "version": "3.11.11"
  }
 },
 "nbformat": 4,
 "nbformat_minor": 5
}
