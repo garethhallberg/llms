{
 "cells": [
  {
   "cell_type": "code",
   "execution_count": 6,
   "metadata": {},
   "outputs": [],
   "source": [
    "import requests"
   ]
  },
  {
   "cell_type": "code",
   "execution_count": 7,
   "metadata": {},
   "outputs": [],
   "source": [
    "# Constants\n",
    "\n",
    "OLLAMA_API = \"http://localhost:11434/api/chat\"\n",
    "HEADERS = {\"Content-Type\": \"application/json\"}\n",
    "MODEL = \"llama3.2\""
   ]
  },
  {
   "cell_type": "code",
   "execution_count": 8,
   "metadata": {},
   "outputs": [],
   "source": [
    "# Create a messages list using the same format that we used for OpenAI\n",
    "\n",
    "messages = [\n",
    "    {\"role\": \"user\", \"content\": \"Describe some of the business applications of Generative AI\"}\n",
    "]"
   ]
  },
  {
   "cell_type": "code",
   "execution_count": 9,
   "metadata": {},
   "outputs": [],
   "source": [
    "payload = {\n",
    "        \"model\": MODEL,\n",
    "        \"messages\": messages,\n",
    "        \"stream\": False\n",
    "    }\n"
   ]
  },
  {
   "cell_type": "code",
   "execution_count": 10,
   "metadata": {},
   "outputs": [
    {
     "name": "stdout",
     "output_type": "stream",
     "text": [
      "\u001b[?2026h\u001b[?25l\u001b[1Gpulling manifest ⠋ \u001b[K\u001b[?25h\u001b[?2026l\u001b[?2026h\u001b[?25l\u001b[1Gpulling manifest ⠙ \u001b[K\u001b[?25h\u001b[?2026l\u001b[?2026h\u001b[?25l\u001b[1Gpulling manifest ⠹ \u001b[K\u001b[?25h\u001b[?2026l\u001b[?2026h\u001b[?25l\u001b[1Gpulling manifest ⠸ \u001b[K\u001b[?25h\u001b[?2026l\u001b[?2026h\u001b[?25l\u001b[1Gpulling manifest ⠼ \u001b[K\u001b[?25h\u001b[?2026l\u001b[?2026h\u001b[?25l\u001b[1Gpulling manifest ⠴ \u001b[K\u001b[?25h\u001b[?2026l\u001b[?2026h\u001b[?25l\u001b[1Gpulling manifest ⠦ \u001b[K\u001b[?25h\u001b[?2026l\u001b[?2026h\u001b[?25l\u001b[1Gpulling manifest ⠧ \u001b[K\u001b[?25h\u001b[?2026l\u001b[?2026h\u001b[?25l\u001b[1Gpulling manifest \u001b[K\n",
      "pulling dde5aa3fc5ff... 100% ▕████████████████▏ 2.0 GB                         \u001b[K\u001b[?25h\u001b[?2026l\u001b[?2026h\u001b[?25l\u001b[A\u001b[1Gpulling manifest \u001b[K\n",
      "pulling dde5aa3fc5ff... 100% ▕████████████████▏ 2.0 GB                         \u001b[K\n",
      "pulling 966de95ca8a6... 100% ▕████████████████▏ 1.4 KB                         \u001b[K\n",
      "pulling fcc5a6bec9da... 100% ▕████████████████▏ 7.7 KB                         \u001b[K\n",
      "pulling a70ff7e570d9... 100% ▕████████████████▏ 6.0 KB                         \u001b[K\n",
      "pulling 56bb8bd477a5... 100% ▕████████████████▏   96 B                         \u001b[K\n",
      "pulling 34bb5ab01051... 100% ▕████████████████▏  561 B                         \u001b[K\n",
      "verifying sha256 digest \u001b[K\n",
      "writing manifest \u001b[K\n",
      "success \u001b[K\u001b[?25h\u001b[?2026l\n"
     ]
    }
   ],
   "source": [
    "!ollama pull llama3.2\n"
   ]
  },
  {
   "cell_type": "code",
   "execution_count": 11,
   "metadata": {},
   "outputs": [
    {
     "name": "stdout",
     "output_type": "stream",
     "text": [
      "Generative AI has numerous business applications across various industries. Here are some examples:\n",
      "\n",
      "1. **Content Creation**: Generative AI can be used to generate high-quality content such as text, images, videos, and music. This can be useful for businesses that need to create large amounts of content quickly, such as social media platforms, e-commerce websites, and advertising agencies.\n",
      "2. **Product Design**: Generative AI can be used to design new products, such as furniture, fashion items, or even entire buildings. This can help companies reduce the time and cost associated with traditional product design processes.\n",
      "3. **Marketing and Advertising**: Generative AI can be used to create personalized marketing messages, such as customized advertisements, social media posts, and email campaigns. It can also be used to generate new ideas for advertising campaigns.\n",
      "4. **Data Analysis and Visualization**: Generative AI can be used to analyze large datasets and generate visualizations of complex data sets. This can help businesses gain insights into their customers' behavior and preferences.\n",
      "5. **Customer Service**: Generative AI can be used to create chatbots that can provide 24/7 customer support and answer frequently asked questions.\n",
      "6. **Finance and Accounting**: Generative AI can be used to automate tasks such as data entry, bookkeeping, and financial analysis. It can also be used to generate financial models and forecasts.\n",
      "7. **Human Resources**: Generative AI can be used to analyze resumes, interview candidates, and even create personalized job descriptions.\n",
      "8. **Supply Chain Optimization**: Generative AI can be used to optimize supply chain operations by analyzing data from various sources such as sensors, IoT devices, and other systems.\n",
      "9. **Healthcare**: Generative AI can be used to generate medical images, diagnose diseases, and create personalized treatment plans for patients.\n",
      "10. **Architecture and Engineering**: Generative AI can be used to design buildings, bridges, and other infrastructure projects. It can also be used to optimize building designs for energy efficiency and sustainability.\n",
      "\n",
      "Some specific examples of businesses that are using generative AI include:\n",
      "\n",
      "* **Instagram**, which uses generative AI to create new features such as augmented reality (AR) effects.\n",
      "* **Nike**, which uses generative AI to design new shoes and clothing.\n",
      "* **Amazon**, which uses generative AI to create personalized product recommendations for customers.\n",
      "* **Google**, which uses generative AI to improve its search engine results.\n",
      "* **Porsche**, which uses generative AI to design new car models.\n",
      "\n",
      "These are just a few examples of the many businesses that are using generative AI to drive innovation and efficiency.\n"
     ]
    }
   ],
   "source": [
    "response = requests.post(OLLAMA_API, json=payload, headers=HEADERS)\n",
    "print(response.json()['message']['content'])"
   ]
  },
  {
   "cell_type": "code",
   "execution_count": null,
   "metadata": {},
   "outputs": [],
   "source": []
  }
 ],
 "metadata": {
  "kernelspec": {
   "display_name": "llms",
   "language": "python",
   "name": "python3"
  },
  "language_info": {
   "codemirror_mode": {
    "name": "ipython",
    "version": 3
   },
   "file_extension": ".py",
   "mimetype": "text/x-python",
   "name": "python",
   "nbconvert_exporter": "python",
   "pygments_lexer": "ipython3",
   "version": "3.11.11"
  }
 },
 "nbformat": 4,
 "nbformat_minor": 2
}
