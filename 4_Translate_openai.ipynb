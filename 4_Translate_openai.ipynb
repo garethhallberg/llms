{
 "cells": [
  {
   "cell_type": "code",
   "execution_count": null,
   "metadata": {},
   "outputs": [
    {
     "name": "stdout",
     "output_type": "stream",
     "text": [
      "OpenAI API Key exists and begins sk-proj-\n"
     ]
    }
   ],
   "source": [
    "# imports\n",
    "\n",
    "import os\n",
    "from dotenv import load_dotenv\n",
    "from openai import OpenAI\n",
    "\n",
    "import gradio as gr\n",
    "\n",
    "# Load environment variables in a file called .env\n",
    "# Print the key prefixes to help with any debugging\n",
    "load_dotenv()\n",
    "openai_api_key = os.getenv('OPENAI_API_KEY')\n",
    "\n",
    "if openai_api_key:\n",
    "    print(f\"OpenAI API Key exists and begins {openai_api_key[:8]}\")\n",
    "else:\n",
    "    print(\"OpenAI API Key not set\")\n",
    "\n",
    "#Connect to OpenAI\n",
    "openai = OpenAI()\n",
    "MODEL = 'gpt-4o-mini'\n",
    "\n",
    "# A generic system message\n",
    "system_message = \"You are a helpful assistant\""
   ]
  },
  {
   "cell_type": "code",
   "execution_count": 4,
   "metadata": {},
   "outputs": [],
   "source": [
    "def message_gpt(prompt):\n",
    "    messages = [\n",
    "        {\"role\": \"system\", \"content\": system_message},\n",
    "        {\"role\": \"user\", \"content\": prompt}\n",
    "      ]\n",
    "    completion = openai.chat.completions.create(\n",
    "        model='gpt-4o-mini',\n",
    "        messages=messages,\n",
    "    )\n",
    "    response = completion.choices[0].message.content\n",
    "    # with open(\"gareth/output.txt\", 'w') as file:\n",
    "    #     file.write(str(response))\n",
    "    return response"
   ]
  },
  {
   "cell_type": "code",
   "execution_count": 7,
   "metadata": {},
   "outputs": [],
   "source": [
    "def translate_text(text, target_language):\n",
    "  \n",
    "  \n",
    "   language_map = {\n",
    "       \"Turkish\": \"Turkish\",\n",
    "       \"Spanish\": \"Spanish\",\n",
    "       \"Chinese\": \"Chinese (Simplified)\",\n",
    "       \"German\": \"German\",\n",
    "       \"French\": \"French\",\n",
    "   }\n",
    "   prompt = f\"Translate the following English text to {language_map[target_language]}:\\n\\nEnglish: {text}\\n\\n{target_language} translation:\"\n",
    "   try:\n",
    "       response = openai.chat.completions.create(\n",
    "           model=\"gpt-4\",\n",
    "           messages=[\n",
    "               {\"role\": \"system\", \"content\": \"You are a professional translator.\"},\n",
    "               {\"role\": \"user\", \"content\": prompt},\n",
    "           ],\n",
    "       )\n",
    "       translation = response.choices[0].message.content.strip()\n",
    "       return translation\n",
    "   except Exception as e:\n",
    "       return f\"Error: {str(e)}\""
   ]
  },
  {
   "cell_type": "code",
   "execution_count": 8,
   "metadata": {},
   "outputs": [
    {
     "name": "stdout",
     "output_type": "stream",
     "text": [
      "* Running on local URL:  http://127.0.0.1:7866\n",
      "* Running on public URL: https://97fcab378cce599567.gradio.live\n",
      "\n",
      "This share link expires in 72 hours. For free permanent hosting and GPU upgrades, run `gradio deploy` from the terminal in the working directory to deploy to Hugging Face Spaces (https://huggingface.co/spaces)\n"
     ]
    },
    {
     "data": {
      "text/html": [
       "<div><iframe src=\"https://97fcab378cce599567.gradio.live\" width=\"100%\" height=\"500\" allow=\"autoplay; camera; microphone; clipboard-read; clipboard-write;\" frameborder=\"0\" allowfullscreen></iframe></div>"
      ],
      "text/plain": [
       "<IPython.core.display.HTML object>"
      ]
     },
     "metadata": {},
     "output_type": "display_data"
    },
    {
     "data": {
      "text/plain": []
     },
     "execution_count": 8,
     "metadata": {},
     "output_type": "execute_result"
    }
   ],
   "source": [
    "iface = gr.Interface(\n",
    "   fn=translate_text,\n",
    "   inputs=[\n",
    "       gr.Textbox(\n",
    "           lines=4,\n",
    "           placeholder=\"Enter English text to translate...\",\n",
    "           label=\"English Text\",\n",
    "       ),\n",
    "       gr.Dropdown(\n",
    "           choices=[\"Turkish\", \"Spanish\", \"Chinese\", \"German\", \"French\"], \n",
    "           label=\"Target Language\"\n",
    "           ),\n",
    "   ],\n",
    "   outputs=gr.Textbox(label=\"Translation\", show_copy_button=True),\n",
    "   title=\"English to Turkish/Spanish/Chinese Translator\",\n",
    "   description=\"Translate English text to Turkish, Spanish, or Chinese using OpenAI's GPT-4 model. Enter the text you want to translate, and select the target language.\",\n",
    ")\n",
    "iface.launch(share=True)"
   ]
  },
  {
   "cell_type": "code",
   "execution_count": null,
   "metadata": {},
   "outputs": [],
   "source": []
  }
 ],
 "metadata": {
  "kernelspec": {
   "display_name": "llms",
   "language": "python",
   "name": "python3"
  },
  "language_info": {
   "codemirror_mode": {
    "name": "ipython",
    "version": 3
   },
   "file_extension": ".py",
   "mimetype": "text/x-python",
   "name": "python",
   "nbconvert_exporter": "python",
   "pygments_lexer": "ipython3",
   "version": "3.11.11"
  }
 },
 "nbformat": 4,
 "nbformat_minor": 2
}
