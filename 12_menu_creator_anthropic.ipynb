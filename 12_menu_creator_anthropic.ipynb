{
 "cells": [
  {
   "cell_type": "code",
   "execution_count": 17,
   "id": "9063fb90",
   "metadata": {},
   "outputs": [],
   "source": [
    "import os\n",
    "from datetime import datetime\n",
    "import anthropic\n",
    "from dotenv import load_dotenv\n",
    "from fpdf import FPDF\n",
    "\n",
    "import smtplib\n",
    "from email.mime.text import MIMEText\n",
    "from email.mime.multipart import MIMEMultipart\n",
    "from email.mime.base import MIMEBase\n",
    "from email import encoders"
   ]
  },
  {
   "cell_type": "code",
   "execution_count": 18,
   "id": "42c3456e",
   "metadata": {},
   "outputs": [
    {
     "name": "stdout",
     "output_type": "stream",
     "text": [
      "Anthropic API Key exists and begins sk-ant-a\n"
     ]
    }
   ],
   "source": [
    "load_dotenv()\n",
    "anthropic_api_key = os.getenv('ANTHROPIC_API_KEY')\n",
    "\n",
    "if anthropic_api_key:\n",
    "    print(f\"Anthropic API Key exists and begins {anthropic_api_key[:8]}\")\n",
    "else:\n",
    "    print(\"Anthropic API Key not set\")\n",
    "\n",
    "# Initialize Anthropic client\n",
    "client = anthropic.Client(api_key=anthropic_api_key)"
   ]
  },
  {
   "cell_type": "code",
   "execution_count": 20,
   "id": "7fc9ea0a",
   "metadata": {},
   "outputs": [
    {
     "name": "stdout",
     "output_type": "stream",
     "text": [
      "Weekly vegetarian menu also saved to weekly_menu/menu_20250415_140837.pdf\n"
     ]
    }
   ],
   "source": [
    "def write_file(content):\n",
    "    # Create the weekly_menu folder if it doesn't exist\n",
    "    os.makedirs(\"weekly_menu\", exist_ok=True)\n",
    "\n",
    "    # Generate a timestamped filename\n",
    "    timestamp = datetime.now().strftime(\"%Y%m%d_%H%M%S\")\n",
    "    filename = f\"weekly_menu/menu_{timestamp}.md\"\n",
    "\n",
    "    # Save the menu to the file\n",
    "    with open(filename, \"w\") as file:\n",
    "        file.write(content)\n",
    "\n",
    "        # Save the menu as a PDF\n",
    "\n",
    "        pdf = FPDF()\n",
    "        pdf.set_auto_page_break(auto=True, margin=15)\n",
    "        pdf.add_page()\n",
    "        pdf.set_font(\"Arial\", size=12)\n",
    "\n",
    "        for line in content.splitlines():\n",
    "            pdf.multi_cell(0, 10, line)\n",
    "\n",
    "        pdf_filename = filename.replace(\".md\", \".pdf\")\n",
    "        pdf.output(pdf_filename)\n",
    "\n",
    "        print(f\"Weekly vegetarian menu also saved to {pdf_filename}\")\n",
    "       \n",
    "\n",
    "def generate_menu():\n",
    "    # Prompt for generating a vegetarian weekly menu\n",
    "    prompt = \"\"\"\n",
    "    Generate a weekly vegetarian menu with breakfast, lunch, and dinner for each day. \n",
    "    Ensure the meals are balanced and include a variety of ingredients. \n",
    "    Use seasonal vegetables and grains. It is currently Spring and user is in the UK.\n",
    "    Include recipes for each meal, including cooking times and serving sizes.\n",
    "    The menu should be suitable for two people.\n",
    "    Output as markdown would be good\n",
    "    \"\"\"\n",
    "    response = anthropic.Anthropic().messages.create(\n",
    "        model=\"claude-3-opus-20240229\",\n",
    "        max_tokens=4096,\n",
    "        system=\"You are an expert at creating vegetarian menus\",\n",
    "        messages=[{\"role\": \"user\", \"content\": prompt}]\n",
    "    )\n",
    "    return response.content[0].text\n",
    "\n",
    "\n",
    "# Get the generated menu\n",
    "menu = generate_menu()\n",
    "\n",
    "filename = write_file(menu)\n",
    "\n",
    "\n"
   ]
  },
  {
   "cell_type": "code",
   "execution_count": null,
   "id": "bafb8af6",
   "metadata": {},
   "outputs": [],
   "source": []
  }
 ],
 "metadata": {
  "kernelspec": {
   "display_name": "llms",
   "language": "python",
   "name": "python3"
  },
  "language_info": {
   "codemirror_mode": {
    "name": "ipython",
    "version": 3
   },
   "file_extension": ".py",
   "mimetype": "text/x-python",
   "name": "python",
   "nbconvert_exporter": "python",
   "pygments_lexer": "ipython3",
   "version": "3.11.11"
  }
 },
 "nbformat": 4,
 "nbformat_minor": 5
}
